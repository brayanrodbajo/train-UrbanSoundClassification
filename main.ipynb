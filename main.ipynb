{
 "cells": [
  {
   "cell_type": "code",
   "execution_count": 1,
   "metadata": {},
   "outputs": [],
   "source": [
    "import librosa\n",
    "import librosa.display"
   ]
  },
  {
   "cell_type": "code",
   "execution_count": 2,
   "metadata": {},
   "outputs": [
    {
     "name": "stdout",
     "output_type": "stream",
     "text": [
      "Populating the interactive namespace from numpy and matplotlib\n",
      "(173, 40)\n"
     ]
    },
    {
     "data": {
      "text/plain": [
       "array([-186.29369  ,  111.83632  ,  -47.335823 ,   16.292126 ,\n",
       "        -17.449097 ,    7.793613 ,  -17.645851 ,    9.319144 ,\n",
       "        -17.199574 ,    3.937947 ,  -19.640718 ,   -1.0967298,\n",
       "        -15.500124 ,   -1.1180016,  -14.3115   ,   -2.2991726,\n",
       "        -13.424973 ,   -0.5971485,   -9.997926 ,   -3.033559 ,\n",
       "        -11.0444355,   -3.943905 ,   -8.028481 ,   -4.065942 ,\n",
       "        -10.109748 ,   -3.0896254,   -7.573358 ,   -5.9907274,\n",
       "         -9.764758 ,   -4.2451377,   -4.8508115,   -4.606578 ,\n",
       "         -6.7040167,   -3.5499804,   -3.6824217,   -4.478353 ,\n",
       "         -4.381412 ,   -1.7015086,   -3.7670383,   -4.4581046],\n",
       "      dtype=float32)"
      ]
     },
     "execution_count": 2,
     "metadata": {},
     "output_type": "execute_result"
    },
    {
     "data": {
      "image/png": "[encoded data removed]",
      "text/plain": [
       "<Figure size 864x288 with 1 Axes>"
      ]
     },
     "metadata": {
      "needs_background": "light"
     },
     "output_type": "display_data"
    }
   ],
   "source": [
    "%pylab inline\n",
    "import os\n",
    "import pandas as pd\n",
    "import librosa\n",
    "import glob \n",
    "\n",
    "data, sampling_rate = librosa.load('data/train/Train/2022.wav')\n",
    "\n",
    "plt.figure(figsize=(12, 4))\n",
    "librosa.display.waveplot(data, sr=sampling_rate)\n",
    "\n",
    "X, sample_rate = librosa.load('data/train/Train/2022.wav', res_type='kaiser_fast') \n",
    "mfcc = librosa.feature.mfcc(y=X, sr=sample_rate, n_mfcc=40).T\n",
    "print(mfcc.shape)\n",
    "np.mean(mfcc, axis=0)"
   ]
  },
  {
   "cell_type": "code",
   "execution_count": 3,
   "metadata": {},
   "outputs": [],
   "source": [
    "\n",
    "train = pd.read_csv(\"data/train/train.csv\") "
   ]
  },
  {
   "cell_type": "code",
   "execution_count": 4,
   "metadata": {},
   "outputs": [],
   "source": [
    "test = pd.read_csv(\"data/test/test.csv\") "
   ]
  },
  {
   "cell_type": "code",
   "execution_count": 5,
   "metadata": {},
   "outputs": [
    {
     "data": {
      "text/plain": [
       "jackhammer          668\n",
       "engine_idling       624\n",
       "siren               607\n",
       "dog_bark            600\n",
       "street_music        600\n",
       "children_playing    600\n",
       "drilling            600\n",
       "air_conditioner     600\n",
       "car_horn            306\n",
       "gun_shot            230\n",
       "Name: Class, dtype: int64"
      ]
     },
     "execution_count": 5,
     "metadata": {},
     "output_type": "execute_result"
    }
   ],
   "source": [
    "train.Class.value_counts()\n"
   ]
  },
  {
   "cell_type": "markdown",
   "metadata": {},
   "source": [
    "## Load audio files and extract features"
   ]
  },
  {
   "cell_type": "code",
   "execution_count": 6,
   "metadata": {},
   "outputs": [],
   "source": [
    "data_dir = \"data/\"\n",
    "def parser(row):\n",
    "   # function to load files and extract features\n",
    "   file_name = os.path.join(os.path.abspath(data_dir), 'train/Train', str(row.ID) + '.wav')\n",
    "\n",
    "   # handle exception to check if there isn't a file which is corrupted\n",
    "   try:\n",
    "      # here kaiser_fast is a technique used for faster extraction\n",
    "      X, sample_rate = librosa.load(file_name, res_type='kaiser_fast') \n",
    "      # we extract mfcc feature from data\n",
    "      mfccs = np.mean(librosa.feature.mfcc(y=X, sr=sample_rate, n_mfcc=40).T,axis=0) \n",
    "   except Exception as e:\n",
    "      print(\"Error encountered while parsing file: \", file)\n",
    "      return None, None\n",
    " \n",
    "   feature = mfccs\n",
    "   label = row.Class\n",
    " \n",
    "   return pd.Series([feature, label], index=['feature', 'label'])\n",
    "\n",
    "temp = train.apply(parser, axis=1)\n",
    "temp.columns = ['feature', 'label']"
   ]
  },
  {
   "cell_type": "markdown",
   "metadata": {},
   "source": [
    "## Convert the data to pass it in our deep learning model"
   ]
  },
  {
   "cell_type": "code",
   "execution_count": 7,
   "metadata": {},
   "outputs": [
    {
     "data": {
      "text/html": [
       "<div>\n",
       "<style scoped>\n",
       "    .dataframe tbody tr th:only-of-type {\n",
       "        vertical-align: middle;\n",
       "    }\n",
       "\n",
       "    .dataframe tbody tr th {\n",
       "        vertical-align: top;\n",
       "    }\n",
       "\n",
       "    .dataframe thead th {\n",
       "        text-align: right;\n",
       "    }\n",
       "</style>\n",
       "<table border=\"1\" class=\"dataframe\">\n",
       "  <thead>\n",
       "    <tr style=\"text-align: right;\">\n",
       "      <th></th>\n",
       "      <th>feature</th>\n",
       "      <th>label</th>\n",
       "    </tr>\n",
       "  </thead>\n",
       "  <tbody>\n",
       "    <tr>\n",
       "      <td>0</td>\n",
       "      <td>[-82.12359, 139.50595, -42.430847, 24.82786, -...</td>\n",
       "      <td>siren</td>\n",
       "    </tr>\n",
       "    <tr>\n",
       "      <td>1</td>\n",
       "      <td>[-15.744001, 124.11996, -29.42888, 39.44719, -...</td>\n",
       "      <td>street_music</td>\n",
       "    </tr>\n",
       "    <tr>\n",
       "      <td>2</td>\n",
       "      <td>[-123.393654, 15.181944, -50.093338, 7.141871,...</td>\n",
       "      <td>drilling</td>\n",
       "    </tr>\n",
       "    <tr>\n",
       "      <td>3</td>\n",
       "      <td>[-213.2787, 89.323616, -55.256165, 12.632097, ...</td>\n",
       "      <td>siren</td>\n",
       "    </tr>\n",
       "    <tr>\n",
       "      <td>4</td>\n",
       "      <td>[-237.9265, 135.90247, 39.26844, 21.24023, 9.5...</td>\n",
       "      <td>dog_bark</td>\n",
       "    </tr>\n",
       "    <tr>\n",
       "      <td>...</td>\n",
       "      <td>...</td>\n",
       "      <td>...</td>\n",
       "    </tr>\n",
       "    <tr>\n",
       "      <td>5430</td>\n",
       "      <td>[-214.65845, 178.94125, -1.2636192, 63.962276,...</td>\n",
       "      <td>engine_idling</td>\n",
       "    </tr>\n",
       "    <tr>\n",
       "      <td>5431</td>\n",
       "      <td>[-395.34586, 105.81336, -0.19628958, -7.097910...</td>\n",
       "      <td>dog_bark</td>\n",
       "    </tr>\n",
       "    <tr>\n",
       "      <td>5432</td>\n",
       "      <td>[-320.81738, 58.30057, -6.869504, 15.693741, -...</td>\n",
       "      <td>engine_idling</td>\n",
       "    </tr>\n",
       "    <tr>\n",
       "      <td>5433</td>\n",
       "      <td>[-277.0318, 141.1457, -36.32912, 39.455746, -0...</td>\n",
       "      <td>engine_idling</td>\n",
       "    </tr>\n",
       "    <tr>\n",
       "      <td>5434</td>\n",
       "      <td>[-290.99677, 233.35152, -4.6723485, 4.6523285,...</td>\n",
       "      <td>air_conditioner</td>\n",
       "    </tr>\n",
       "  </tbody>\n",
       "</table>\n",
       "<p>5435 rows × 2 columns</p>\n",
       "</div>"
      ],
      "text/plain": [
       "                                                feature            label\n",
       "0     [-82.12359, 139.50595, -42.430847, 24.82786, -...            siren\n",
       "1     [-15.744001, 124.11996, -29.42888, 39.44719, -...     street_music\n",
       "2     [-123.393654, 15.181944, -50.093338, 7.141871,...         drilling\n",
       "3     [-213.2787, 89.323616, -55.256165, 12.632097, ...            siren\n",
       "4     [-237.9265, 135.90247, 39.26844, 21.24023, 9.5...         dog_bark\n",
       "...                                                 ...              ...\n",
       "5430  [-214.65845, 178.94125, -1.2636192, 63.962276,...    engine_idling\n",
       "5431  [-395.34586, 105.81336, -0.19628958, -7.097910...         dog_bark\n",
       "5432  [-320.81738, 58.30057, -6.869504, 15.693741, -...    engine_idling\n",
       "5433  [-277.0318, 141.1457, -36.32912, 39.455746, -0...    engine_idling\n",
       "5434  [-290.99677, 233.35152, -4.6723485, 4.6523285,...  air_conditioner\n",
       "\n",
       "[5435 rows x 2 columns]"
      ]
     },
     "execution_count": 7,
     "metadata": {},
     "output_type": "execute_result"
    }
   ],
   "source": [
    "temp"
   ]
  },
  {
   "cell_type": "code",
   "execution_count": 8,
   "metadata": {},
   "outputs": [
    {
     "name": "stderr",
     "output_type": "stream",
     "text": [
      "Using TensorFlow backend.\n"
     ]
    }
   ],
   "source": [
    "from sklearn.preprocessing import LabelEncoder\n",
    "from keras.utils import np_utils\n",
    "\n",
    "X = np.array(temp.feature.tolist())\n",
    "y = np.array(temp.label.tolist())\n",
    "\n",
    "lb = LabelEncoder()\n",
    "\n",
    "y = np_utils.to_categorical(lb.fit_transform(y))"
   ]
  },
  {
   "cell_type": "markdown",
   "metadata": {},
   "source": [
    "# Run a deep learning model and get results"
   ]
  },
  {
   "cell_type": "code",
   "execution_count": 16,
   "metadata": {
    "scrolled": true
   },
   "outputs": [
    {
     "name": "stdout",
     "output_type": "stream",
     "text": [
      "_________________________________________________________________\n",
      "Layer (type)                 Output Shape              Param #   \n",
      "=================================================================\n",
      "dense_7 (Dense)              (None, 256)               10496     \n",
      "_________________________________________________________________\n",
      "activation_7 (Activation)    (None, 256)               0         \n",
      "_________________________________________________________________\n",
      "dropout_5 (Dropout)          (None, 256)               0         \n",
      "_________________________________________________________________\n",
      "dense_8 (Dense)              (None, 256)               65792     \n",
      "_________________________________________________________________\n",
      "activation_8 (Activation)    (None, 256)               0         \n",
      "_________________________________________________________________\n",
      "dropout_6 (Dropout)          (None, 256)               0         \n",
      "_________________________________________________________________\n",
      "dense_9 (Dense)              (None, 10)                2570      \n",
      "_________________________________________________________________\n",
      "activation_9 (Activation)    (None, 10)                0         \n",
      "=================================================================\n",
      "Total params: 78,858\n",
      "Trainable params: 78,858\n",
      "Non-trainable params: 0\n",
      "_________________________________________________________________\n"
     ]
    }
   ],
   "source": [
    "import numpy as np\n",
    "from keras.models import Sequential\n",
    "from keras.layers import Dense, Dropout, Activation, Flatten\n",
    "from keras.layers import Convolution2D, MaxPooling2D\n",
    "from keras.optimizers import Adam\n",
    "from keras.utils import np_utils\n",
    "from sklearn import metrics \n",
    "from sklearn.model_selection import train_test_split #metodo de particionamiento de datasets para evaluación\n",
    "\n",
    "X_train, X_test, y_train, y_test = train_test_split(X, y)\n",
    "\n",
    "num_labels = y.shape[1]\n",
    "filter_size = 2\n",
    "\n",
    "# build model\n",
    "model = Sequential()\n",
    "\n",
    "model.add(Dense(256, input_shape=(40,)))\n",
    "model.add(Activation('relu'))\n",
    "model.add(Dropout(0.5))\n",
    "\n",
    "model.add(Dense(256))\n",
    "model.add(Activation('relu'))\n",
    "model.add(Dropout(0.5))\n",
    "\n",
    "model.add(Dense(num_labels))\n",
    "model.add(Activation('softmax'))\n",
    "\n",
    "model.compile(loss='categorical_crossentropy', metrics=['accuracy'], optimizer='adam')\n",
    "\n",
    "model.summary()"
   ]
  },
  {
   "cell_type": "code",
   "execution_count": 20,
   "metadata": {},
   "outputs": [
    {
     "name": "stdout",
     "output_type": "stream",
     "text": [
      "Train on 4076 samples, validate on 1359 samples\n",
      "Epoch 1/100\n",
      "4076/4076 [==============================] - 1s 322us/step - loss: 1.7775 - acc: 0.4271 - val_loss: 1.5206 - val_acc: 0.5570\n",
      "Epoch 2/100\n",
      "4076/4076 [==============================] - 1s 330us/step - loss: 1.5984 - acc: 0.4750 - val_loss: 1.3780 - val_acc: 0.5843\n",
      "Epoch 3/100\n",
      "4076/4076 [==============================] - 1s 305us/step - loss: 1.4733 - acc: 0.5091 - val_loss: 1.2824 - val_acc: 0.6122\n",
      "Epoch 4/100\n",
      "4076/4076 [==============================] - 1s 291us/step - loss: 1.3965 - acc: 0.5420 - val_loss: 1.2405 - val_acc: 0.6306\n",
      "Epoch 5/100\n",
      "4076/4076 [==============================] - 1s 349us/step - loss: 1.3024 - acc: 0.5694 - val_loss: 1.1148 - val_acc: 0.6446\n",
      "Epoch 6/100\n",
      "4076/4076 [==============================] - 1s 330us/step - loss: 1.2618 - acc: 0.5792 - val_loss: 1.0953 - val_acc: 0.6806\n",
      "Epoch 7/100\n",
      "4076/4076 [==============================] - 1s 331us/step - loss: 1.2167 - acc: 0.5895 - val_loss: 1.0510 - val_acc: 0.6681\n",
      "Epoch 8/100\n",
      "4076/4076 [==============================] - 1s 311us/step - loss: 1.1687 - acc: 0.6045 - val_loss: 1.0066 - val_acc: 0.6954\n",
      "Epoch 9/100\n",
      "4076/4076 [==============================] - 1s 333us/step - loss: 1.1166 - acc: 0.6278 - val_loss: 0.9756 - val_acc: 0.7042\n",
      "Epoch 10/100\n",
      "4076/4076 [==============================] - 1s 355us/step - loss: 1.0708 - acc: 0.6467 - val_loss: 0.9112 - val_acc: 0.7226\n",
      "Epoch 11/100\n",
      "4076/4076 [==============================] - 1s 314us/step - loss: 1.0419 - acc: 0.6472 - val_loss: 0.9127 - val_acc: 0.7388\n",
      "Epoch 12/100\n",
      "4076/4076 [==============================] - 1s 348us/step - loss: 0.9810 - acc: 0.6685 - val_loss: 0.8549 - val_acc: 0.7542\n",
      "Epoch 13/100\n",
      "4076/4076 [==============================] - 1s 349us/step - loss: 0.9858 - acc: 0.6732 - val_loss: 0.8543 - val_acc: 0.7358\n",
      "Epoch 14/100\n",
      "4076/4076 [==============================] - 2s 416us/step - loss: 0.9428 - acc: 0.6857 - val_loss: 0.8155 - val_acc: 0.7483\n",
      "Epoch 15/100\n",
      "4076/4076 [==============================] - 2s 379us/step - loss: 0.9175 - acc: 0.6860 - val_loss: 0.7807 - val_acc: 0.7572\n",
      "Epoch 16/100\n",
      "4076/4076 [==============================] - 2s 495us/step - loss: 0.9081 - acc: 0.6977 - val_loss: 0.7548 - val_acc: 0.7719\n",
      "Epoch 17/100\n",
      "4076/4076 [==============================] - 2s 391us/step - loss: 0.8980 - acc: 0.7002 - val_loss: 0.7457 - val_acc: 0.7770\n",
      "Epoch 18/100\n",
      "4076/4076 [==============================] - 2s 503us/step - loss: 0.9042 - acc: 0.6975 - val_loss: 0.7475 - val_acc: 0.7815\n",
      "Epoch 19/100\n",
      "4076/4076 [==============================] - 2s 526us/step - loss: 0.8258 - acc: 0.7181 - val_loss: 0.7221 - val_acc: 0.7881\n",
      "Epoch 20/100\n",
      "4076/4076 [==============================] - 2s 579us/step - loss: 0.8521 - acc: 0.7120 - val_loss: 0.6988 - val_acc: 0.7873\n",
      "Epoch 21/100\n",
      "4076/4076 [==============================] - 1s 280us/step - loss: 0.8169 - acc: 0.7245 - val_loss: 0.6867 - val_acc: 0.7815\n",
      "Epoch 22/100\n",
      "4076/4076 [==============================] - 1s 287us/step - loss: 0.8052 - acc: 0.7341 - val_loss: 0.6702 - val_acc: 0.7940\n",
      "Epoch 23/100\n",
      "4076/4076 [==============================] - 1s 230us/step - loss: 0.7577 - acc: 0.7505 - val_loss: 0.6821 - val_acc: 0.7815\n",
      "Epoch 24/100\n",
      "4076/4076 [==============================] - 1s 211us/step - loss: 0.7630 - acc: 0.7488 - val_loss: 0.6565 - val_acc: 0.7925\n",
      "Epoch 25/100\n",
      "4076/4076 [==============================] - 1s 219us/step - loss: 0.7577 - acc: 0.7434 - val_loss: 0.6291 - val_acc: 0.8072\n",
      "Epoch 26/100\n",
      "4076/4076 [==============================] - 1s 212us/step - loss: 0.7300 - acc: 0.7534 - val_loss: 0.6290 - val_acc: 0.8094\n",
      "Epoch 27/100\n",
      "4076/4076 [==============================] - 1s 219us/step - loss: 0.7009 - acc: 0.7645 - val_loss: 0.6063 - val_acc: 0.8227\n",
      "Epoch 28/100\n",
      "4076/4076 [==============================] - 1s 259us/step - loss: 0.7073 - acc: 0.7613 - val_loss: 0.6384 - val_acc: 0.8006\n",
      "Epoch 29/100\n",
      "4076/4076 [==============================] - 1s 258us/step - loss: 0.6918 - acc: 0.7704 - val_loss: 0.6227 - val_acc: 0.8102\n",
      "Epoch 30/100\n",
      "4076/4076 [==============================] - 1s 225us/step - loss: 0.6977 - acc: 0.7655 - val_loss: 0.6057 - val_acc: 0.8043\n",
      "Epoch 31/100\n",
      "4076/4076 [==============================] - 1s 220us/step - loss: 0.7044 - acc: 0.7603 - val_loss: 0.5879 - val_acc: 0.8175\n",
      "Epoch 32/100\n",
      "4076/4076 [==============================] - 1s 245us/step - loss: 0.6794 - acc: 0.7662 - val_loss: 0.5893 - val_acc: 0.8300\n",
      "Epoch 33/100\n",
      "4076/4076 [==============================] - 1s 214us/step - loss: 0.6513 - acc: 0.7807 - val_loss: 0.6037 - val_acc: 0.8234\n",
      "Epoch 34/100\n",
      "4076/4076 [==============================] - 1s 249us/step - loss: 0.6512 - acc: 0.7794 - val_loss: 0.5860 - val_acc: 0.8197\n",
      "Epoch 35/100\n",
      "4076/4076 [==============================] - 1s 205us/step - loss: 0.6459 - acc: 0.7755 - val_loss: 0.5835 - val_acc: 0.8175\n",
      "Epoch 36/100\n",
      "4076/4076 [==============================] - 1s 237us/step - loss: 0.6752 - acc: 0.7755 - val_loss: 0.5597 - val_acc: 0.8241\n",
      "Epoch 37/100\n",
      "4076/4076 [==============================] - 1s 236us/step - loss: 0.6506 - acc: 0.7812 - val_loss: 0.5437 - val_acc: 0.8381\n",
      "Epoch 38/100\n",
      "4076/4076 [==============================] - 1s 211us/step - loss: 0.6343 - acc: 0.7920 - val_loss: 0.5321 - val_acc: 0.8241\n",
      "Epoch 39/100\n",
      "4076/4076 [==============================] - 1s 228us/step - loss: 0.6305 - acc: 0.7834 - val_loss: 0.5192 - val_acc: 0.8381\n",
      "Epoch 40/100\n",
      "4076/4076 [==============================] - 1s 228us/step - loss: 0.5850 - acc: 0.8074 - val_loss: 0.5666 - val_acc: 0.8227\n",
      "Epoch 41/100\n",
      "4076/4076 [==============================] - 1s 241us/step - loss: 0.5971 - acc: 0.7993 - val_loss: 0.5502 - val_acc: 0.8411\n",
      "Epoch 42/100\n",
      "4076/4076 [==============================] - 1s 224us/step - loss: 0.5888 - acc: 0.7976 - val_loss: 0.5273 - val_acc: 0.8440\n",
      "Epoch 43/100\n",
      "4076/4076 [==============================] - 1s 222us/step - loss: 0.6064 - acc: 0.7978 - val_loss: 0.5334 - val_acc: 0.8403\n",
      "Epoch 44/100\n",
      "4076/4076 [==============================] - 1s 210us/step - loss: 0.5932 - acc: 0.8015 - val_loss: 0.5128 - val_acc: 0.8447\n",
      "Epoch 45/100\n",
      "4076/4076 [==============================] - 1s 287us/step - loss: 0.5886 - acc: 0.8013 - val_loss: 0.5372 - val_acc: 0.8241\n",
      "Epoch 46/100\n",
      "4076/4076 [==============================] - 1s 262us/step - loss: 0.5710 - acc: 0.8096 - val_loss: 0.5102 - val_acc: 0.8440\n",
      "Epoch 47/100\n",
      "4076/4076 [==============================] - 1s 221us/step - loss: 0.5876 - acc: 0.8027 - val_loss: 0.5016 - val_acc: 0.8477\n",
      "Epoch 48/100\n",
      "4076/4076 [==============================] - 1s 211us/step - loss: 0.5590 - acc: 0.8140 - val_loss: 0.5269 - val_acc: 0.8337\n",
      "Epoch 49/100\n",
      "4076/4076 [==============================] - 1s 213us/step - loss: 0.5580 - acc: 0.8091 - val_loss: 0.4942 - val_acc: 0.8587\n",
      "Epoch 50/100\n",
      "4076/4076 [==============================] - 1s 204us/step - loss: 0.5945 - acc: 0.7988 - val_loss: 0.5056 - val_acc: 0.8469\n",
      "Epoch 51/100\n",
      "4076/4076 [==============================] - 1s 197us/step - loss: 0.5433 - acc: 0.8140 - val_loss: 0.5130 - val_acc: 0.8499\n",
      "Epoch 52/100\n",
      "4076/4076 [==============================] - 1s 215us/step - loss: 0.5616 - acc: 0.8158 - val_loss: 0.5113 - val_acc: 0.8484\n",
      "Epoch 53/100\n",
      "4076/4076 [==============================] - 1s 230us/step - loss: 0.5489 - acc: 0.8126 - val_loss: 0.5114 - val_acc: 0.8455\n",
      "Epoch 54/100\n",
      "4076/4076 [==============================] - 1s 234us/step - loss: 0.5386 - acc: 0.8155 - val_loss: 0.5016 - val_acc: 0.8462\n",
      "Epoch 55/100\n",
      "4076/4076 [==============================] - 1s 232us/step - loss: 0.5621 - acc: 0.8140 - val_loss: 0.4912 - val_acc: 0.8543\n",
      "Epoch 56/100\n",
      "4076/4076 [==============================] - 1s 229us/step - loss: 0.5359 - acc: 0.8226 - val_loss: 0.4787 - val_acc: 0.8521\n",
      "Epoch 57/100\n",
      "4076/4076 [==============================] - 1s 220us/step - loss: 0.5383 - acc: 0.8138 - val_loss: 0.4863 - val_acc: 0.8484\n",
      "Epoch 58/100\n",
      "4076/4076 [==============================] - 1s 222us/step - loss: 0.5398 - acc: 0.8199 - val_loss: 0.4729 - val_acc: 0.8572\n",
      "Epoch 59/100\n",
      "4076/4076 [==============================] - 1s 217us/step - loss: 0.5171 - acc: 0.8226 - val_loss: 0.4840 - val_acc: 0.8403\n",
      "Epoch 60/100\n"
     ]
    },
    {
     "name": "stdout",
     "output_type": "stream",
     "text": [
      "4076/4076 [==============================] - 1s 210us/step - loss: 0.5493 - acc: 0.8182 - val_loss: 0.4891 - val_acc: 0.8514\n",
      "Epoch 61/100\n",
      "4076/4076 [==============================] - 1s 207us/step - loss: 0.5160 - acc: 0.8236 - val_loss: 0.4679 - val_acc: 0.8595\n",
      "Epoch 62/100\n",
      "4076/4076 [==============================] - 1s 210us/step - loss: 0.5205 - acc: 0.8273 - val_loss: 0.4798 - val_acc: 0.8484\n",
      "Epoch 63/100\n",
      "4076/4076 [==============================] - 1s 215us/step - loss: 0.5391 - acc: 0.8209 - val_loss: 0.4677 - val_acc: 0.8595\n",
      "Epoch 64/100\n",
      "4076/4076 [==============================] - 1s 213us/step - loss: 0.5415 - acc: 0.8192 - val_loss: 0.4754 - val_acc: 0.8484\n",
      "Epoch 65/100\n",
      "4076/4076 [==============================] - 1s 226us/step - loss: 0.5208 - acc: 0.8192 - val_loss: 0.4575 - val_acc: 0.8617\n",
      "Epoch 66/100\n",
      "4076/4076 [==============================] - 1s 204us/step - loss: 0.4922 - acc: 0.8334 - val_loss: 0.4573 - val_acc: 0.8639\n",
      "Epoch 67/100\n",
      "4076/4076 [==============================] - 1s 218us/step - loss: 0.4837 - acc: 0.8381 - val_loss: 0.4556 - val_acc: 0.8528\n",
      "Epoch 68/100\n",
      "4076/4076 [==============================] - 1s 208us/step - loss: 0.4898 - acc: 0.8327 - val_loss: 0.4610 - val_acc: 0.8543\n",
      "Epoch 69/100\n",
      "4076/4076 [==============================] - 1s 215us/step - loss: 0.4948 - acc: 0.8305 - val_loss: 0.4460 - val_acc: 0.8690\n",
      "Epoch 70/100\n",
      "4076/4076 [==============================] - 1s 208us/step - loss: 0.4761 - acc: 0.8403 - val_loss: 0.4389 - val_acc: 0.8712\n",
      "Epoch 71/100\n",
      "4076/4076 [==============================] - 1s 215us/step - loss: 0.5036 - acc: 0.8337 - val_loss: 0.4489 - val_acc: 0.8609\n",
      "Epoch 72/100\n",
      "4076/4076 [==============================] - 1s 218us/step - loss: 0.5069 - acc: 0.8371 - val_loss: 0.4522 - val_acc: 0.8727\n",
      "Epoch 73/100\n",
      "4076/4076 [==============================] - 1s 233us/step - loss: 0.4734 - acc: 0.8359 - val_loss: 0.4364 - val_acc: 0.8734\n",
      "Epoch 74/100\n",
      "4076/4076 [==============================] - 1s 214us/step - loss: 0.4971 - acc: 0.8400 - val_loss: 0.4332 - val_acc: 0.8756\n",
      "Epoch 75/100\n",
      "4076/4076 [==============================] - 1s 205us/step - loss: 0.4698 - acc: 0.8413 - val_loss: 0.4459 - val_acc: 0.8683\n",
      "Epoch 76/100\n",
      "4076/4076 [==============================] - 1s 204us/step - loss: 0.4668 - acc: 0.8427 - val_loss: 0.4481 - val_acc: 0.8661\n",
      "Epoch 77/100\n",
      "4076/4076 [==============================] - 1s 210us/step - loss: 0.4899 - acc: 0.8386 - val_loss: 0.4330 - val_acc: 0.8771\n",
      "Epoch 78/100\n",
      "4076/4076 [==============================] - 1s 201us/step - loss: 0.4841 - acc: 0.8427 - val_loss: 0.4196 - val_acc: 0.8867\n",
      "Epoch 79/100\n",
      "4076/4076 [==============================] - 1s 205us/step - loss: 0.4421 - acc: 0.8535 - val_loss: 0.4251 - val_acc: 0.8749\n",
      "Epoch 80/100\n",
      "4076/4076 [==============================] - 1s 212us/step - loss: 0.4615 - acc: 0.8472 - val_loss: 0.4092 - val_acc: 0.8793\n",
      "Epoch 81/100\n",
      "4076/4076 [==============================] - 1s 218us/step - loss: 0.4763 - acc: 0.8464 - val_loss: 0.4208 - val_acc: 0.8823\n",
      "Epoch 82/100\n",
      "4076/4076 [==============================] - 1s 234us/step - loss: 0.4803 - acc: 0.8376 - val_loss: 0.4286 - val_acc: 0.8771\n",
      "Epoch 83/100\n",
      "4076/4076 [==============================] - 1s 315us/step - loss: 0.4663 - acc: 0.8381 - val_loss: 0.4213 - val_acc: 0.8756\n",
      "Epoch 84/100\n",
      "4076/4076 [==============================] - 1s 233us/step - loss: 0.4560 - acc: 0.8535 - val_loss: 0.4181 - val_acc: 0.8779\n",
      "Epoch 85/100\n",
      "4076/4076 [==============================] - 1s 231us/step - loss: 0.4754 - acc: 0.8435 - val_loss: 0.4303 - val_acc: 0.8631\n",
      "Epoch 86/100\n",
      "4076/4076 [==============================] - 1s 225us/step - loss: 0.4628 - acc: 0.8472 - val_loss: 0.4276 - val_acc: 0.8705\n",
      "Epoch 87/100\n",
      "4076/4076 [==============================] - 1s 256us/step - loss: 0.4770 - acc: 0.8403 - val_loss: 0.4301 - val_acc: 0.8698\n",
      "Epoch 88/100\n",
      "4076/4076 [==============================] - 1s 200us/step - loss: 0.4607 - acc: 0.8481 - val_loss: 0.4251 - val_acc: 0.8756\n",
      "Epoch 89/100\n",
      "4076/4076 [==============================] - 1s 246us/step - loss: 0.4579 - acc: 0.8437 - val_loss: 0.4198 - val_acc: 0.8793\n",
      "Epoch 90/100\n",
      "4076/4076 [==============================] - 1s 231us/step - loss: 0.4207 - acc: 0.8582 - val_loss: 0.4222 - val_acc: 0.8823\n",
      "Epoch 91/100\n",
      "4076/4076 [==============================] - 1s 251us/step - loss: 0.4559 - acc: 0.8516 - val_loss: 0.4224 - val_acc: 0.8801\n",
      "Epoch 92/100\n",
      "4076/4076 [==============================] - 1s 227us/step - loss: 0.4132 - acc: 0.8599 - val_loss: 0.4191 - val_acc: 0.8845\n",
      "Epoch 93/100\n",
      "4076/4076 [==============================] - 1s 229us/step - loss: 0.4591 - acc: 0.8403 - val_loss: 0.4115 - val_acc: 0.8830\n",
      "Epoch 94/100\n",
      "4076/4076 [==============================] - 1s 245us/step - loss: 0.4464 - acc: 0.8503 - val_loss: 0.4066 - val_acc: 0.8801\n",
      "Epoch 95/100\n",
      "4076/4076 [==============================] - 1s 232us/step - loss: 0.4604 - acc: 0.8445 - val_loss: 0.3992 - val_acc: 0.8815\n",
      "Epoch 96/100\n",
      "4076/4076 [==============================] - 1s 230us/step - loss: 0.4430 - acc: 0.8528 - val_loss: 0.4007 - val_acc: 0.8837\n",
      "Epoch 97/100\n",
      "4076/4076 [==============================] - 1s 233us/step - loss: 0.4442 - acc: 0.8567 - val_loss: 0.4164 - val_acc: 0.8779\n",
      "Epoch 98/100\n",
      "4076/4076 [==============================] - 1s 231us/step - loss: 0.4340 - acc: 0.8575 - val_loss: 0.4183 - val_acc: 0.8756\n",
      "Epoch 99/100\n",
      "4076/4076 [==============================] - 1s 234us/step - loss: 0.4413 - acc: 0.8474 - val_loss: 0.4103 - val_acc: 0.8764\n",
      "Epoch 100/100\n",
      "4076/4076 [==============================] - 1s 234us/step - loss: 0.4182 - acc: 0.8616 - val_loss: 0.4086 - val_acc: 0.8756\n"
     ]
    },
    {
     "data": {
      "text/plain": [
       "<keras.callbacks.History at 0x7f6da96a11d0>"
      ]
     },
     "execution_count": 20,
     "metadata": {},
     "output_type": "execute_result"
    }
   ],
   "source": [
    "model.fit(X_train, y_train, batch_size=32, epochs=100, validation_data=(X_test, y_test))"
   ]
  },
  {
   "cell_type": "code",
   "execution_count": null,
   "metadata": {},
   "outputs": [],
   "source": []
  }
 ],
 "metadata": {
  "kernelspec": {
   "display_name": "Python 3",
   "language": "python",
   "name": "python3"
  },
  "language_info": {
   "codemirror_mode": {
    "name": "ipython",
    "version": 3
   },
   "file_extension": ".py",
   "mimetype": "text/x-python",
   "name": "python",
   "nbconvert_exporter": "python",
   "pygments_lexer": "ipython3",
   "version": "3.7.4"
  }
 },
 "nbformat": 4,
 "nbformat_minor": 2
}
